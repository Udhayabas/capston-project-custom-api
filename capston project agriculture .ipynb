{
 "cells": [
  {
   "cell_type": "markdown",
   "id": "2790af60",
   "metadata": {},
   "source": [
    "# Agri Advisor api"
   ]
  },
  {
   "cell_type": "code",
   "execution_count": 1,
   "id": "bbcdd429",
   "metadata": {},
   "outputs": [],
   "source": [
    "import os\n",
    "import openai\n",
    "openai.api_key  = ''\n"
   ]
  },
  {
   "cell_type": "code",
   "execution_count": 3,
   "id": "909eb049",
   "metadata": {},
   "outputs": [],
   "source": [
    "def get_completion(prompt, model=\"gpt-3.5-turbo\"):\n",
    "    messages = [{\"role\": \"user\", \"content\": prompt}]\n",
    "    response = openai.ChatCompletion.create(\n",
    "        model=model,\n",
    "        messages=messages,\n",
    "        temperature=0,\n",
    "    )\n",
    "    return response.choices[0].message[\"content\"]"
   ]
  },
  {
   "cell_type": "code",
   "execution_count": 6,
   "id": "92ea5b7e",
   "metadata": {},
   "outputs": [],
   "source": [
    "response = get_completion(\"write a types of agriculture\")"
   ]
  },
  {
   "cell_type": "code",
   "execution_count": 7,
   "id": "c0ff5e83",
   "metadata": {},
   "outputs": [
    {
     "name": "stdout",
     "output_type": "stream",
     "text": [
      "1. Subsistence agriculture: This type of agriculture is practiced by small-scale farmers who grow crops and raise livestock primarily to feed themselves and their families. The focus is on producing enough food to meet their basic needs.\n",
      "\n",
      "2. Commercial agriculture: Commercial agriculture involves the production of crops and livestock for sale in the market. Farmers in this type of agriculture typically use modern farming techniques and equipment to maximize their yields and profits.\n",
      "\n",
      "3. Organic agriculture: Organic agriculture is a type of farming that relies on natural methods and practices to grow crops and raise livestock. This includes avoiding the use of synthetic pesticides, fertilizers, and genetically modified organisms.\n",
      "\n",
      "4. Intensive agriculture: Intensive agriculture involves the use of high inputs of labor, capital, and technology to maximize crop yields on a limited amount of land. This type of farming often relies on irrigation, fertilizers, and pesticides to achieve high levels of production.\n",
      "\n",
      "5. Extensive agriculture: Extensive agriculture is characterized by low inputs of labor, capital, and technology on large areas of land. This type of farming is often practiced in areas with low population density and is typically used for grazing livestock or growing crops that require minimal maintenance.\n",
      "\n",
      "6. Agroforestry: Agroforestry is a type of agriculture that combines the cultivation of crops with the planting of trees. This practice helps to improve soil fertility, conserve water, and provide additional income for farmers through the sale of timber and other forest products.\n",
      "\n",
      "7. Aquaculture: Aquaculture involves the farming of fish, shellfish, and aquatic plants in controlled environments such as ponds, tanks, or cages. This type of agriculture is important for meeting the growing demand for seafood and reducing pressure on wild fish populations.\n"
     ]
    }
   ],
   "source": [
    "print(response)"
   ]
  },
  {
   "cell_type": "code",
   "execution_count": 9,
   "id": "158d60cf",
   "metadata": {},
   "outputs": [],
   "source": [
    "def get_completion_from_messages(messages,\n",
    "                                 model=\"gpt-3.5-turbo\",\n",
    "                                 temperature=0,\n",
    "                                 max_tokens=500):\n",
    "    response = openai.ChatCompletion.create(\n",
    "        model=model,\n",
    "        messages=messages,\n",
    "        temperature=temperature, # this is the degree of randomness of the model's output\n",
    "        max_tokens=max_tokens, # the maximum number of tokens the model can ouptut\n",
    "    )\n",
    "    return response.choices[0].message[\"content\"]"
   ]
  },
  {
   "cell_type": "code",
   "execution_count": 10,
   "id": "0263ac6c",
   "metadata": {},
   "outputs": [
    {
     "name": "stdout",
     "output_type": "stream",
     "text": [
      "There are several types of agricultural lands based on different criteria. Here are some common types of agricultural lands:\n",
      "\n",
      "1. Arable Land: Land that is suitable for growing crops.\n",
      "2. Pasture Land: Land used for grazing livestock.\n",
      "3. Rangeland: Open land for grazing that may not be suitable for crop cultivation.\n",
      "4. Orchard Land: Land used for growing fruit trees.\n",
      "5. Vineyard Land: Land used for growing grapevines for wine production.\n",
      "6. Forest Land: Land covered with trees, which can also be used for timber production.\n",
      "7. Wetland: Land that is covered with water for at least part of the year, used for rice cultivation, aquaculture, etc.\n",
      "8. Desert Land: Land in arid regions where specialized farming practices are required, such as desert agriculture or desert farming.\n",
      "\n",
      "These are just a few examples, and there can be many other types of agricultural lands based on various factors such as soil type, climate, and topography.\n"
     ]
    }
   ],
   "source": [
    "messages =  [\n",
    "{'role':'system',\n",
    " 'content':\"\"\"You are an assistant of Agro Adviser API.\"\"\"},\n",
    "{'role':'user',\n",
    " 'content':\"\"\"types of agriculture lands\"\"\"},\n",
    "]\n",
    "response = get_completion_from_messages(messages, temperature=1)\n",
    "print(response)"
   ]
  },
  {
   "cell_type": "code",
   "execution_count": null,
   "id": "52250c83",
   "metadata": {},
   "outputs": [],
   "source": []
  }
 ],
 "metadata": {
  "kernelspec": {
   "display_name": "Python 3 (ipykernel)",
   "language": "python",
   "name": "python3"
  },
  "language_info": {
   "codemirror_mode": {
    "name": "ipython",
    "version": 3
   },
   "file_extension": ".py",
   "mimetype": "text/x-python",
   "name": "python",
   "nbconvert_exporter": "python",
   "pygments_lexer": "ipython3",
   "version": "3.7.16"
  }
 },
 "nbformat": 4,
 "nbformat_minor": 5
}
